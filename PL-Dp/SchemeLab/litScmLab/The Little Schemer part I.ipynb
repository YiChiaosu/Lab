{
 "cells": [
  {
   "cell_type": "markdown",
   "metadata": {},
   "source": [
    "## The Little Schemer\n",
    "This is a book for scheme."
   ]
  },
  {
   "cell_type": "markdown",
   "metadata": {
    "collapsed": false
   },
   "source": [
    "## atom & S expr\n",
    "atom is a string of characters\n",
    "lsit is a collection of atoms"
   ]
  },
  {
   "cell_type": "code",
   "execution_count": 17,
   "metadata": {
    "collapsed": false
   },
   "outputs": [],
   "source": [
    "(define l '(((hotdogs)) (pickle) relish))"
   ]
  },
  {
   "cell_type": "markdown",
   "metadata": {},
   "source": [
    "### The Law of Car\n",
    "The primitive *car* is defined only for non-empty lists\n",
    "### The Law of Cdr\n",
    "the primitive *cdr* is defined only for non-empty lists. the *cdr* of any non-empty list is always another list.\n",
    "### The Law of Cons\n",
    "the primitive *cons* takes two arguments the second argument to cons must be a list. the result is a list"
   ]
  },
  {
   "cell_type": "code",
   "execution_count": 15,
   "metadata": {
    "collapsed": false
   },
   "outputs": [
    {
     "data": {
      "text/plain": [
       "((hotdogs))"
      ]
     },
     "execution_count": 15,
     "metadata": {},
     "output_type": "execute_result"
    }
   ],
   "source": [
    "(car l)"
   ]
  },
  {
   "cell_type": "code",
   "execution_count": 16,
   "metadata": {
    "collapsed": false
   },
   "outputs": [
    {
     "data": {
      "text/plain": [
       "((pickle) relish)"
      ]
     },
     "execution_count": 16,
     "metadata": {},
     "output_type": "execute_result"
    }
   ],
   "source": [
    "(cdr l)"
   ]
  },
  {
   "cell_type": "code",
   "execution_count": 20,
   "metadata": {
    "collapsed": false
   },
   "outputs": [
    {
     "data": {
      "text/plain": [
       "(a (hotdogs))"
      ]
     },
     "execution_count": 20,
     "metadata": {},
     "output_type": "execute_result"
    }
   ],
   "source": [
    "(define s 'a)\n",
    "(cons s (car l))"
   ]
  },
  {
   "cell_type": "markdown",
   "metadata": {},
   "source": [
    "### The Law of Null?\n",
    "the primitive *null?* is defined only for lists"
   ]
  },
  {
   "cell_type": "code",
   "execution_count": 22,
   "metadata": {
    "collapsed": false
   },
   "outputs": [
    {
     "data": {
      "text/plain": [
       "#t"
      ]
     },
     "execution_count": 22,
     "metadata": {},
     "output_type": "execute_result"
    }
   ],
   "source": [
    "(atom? s)"
   ]
  },
  {
   "cell_type": "code",
   "execution_count": 23,
   "metadata": {
    "collapsed": false
   },
   "outputs": [
    {
     "data": {
      "text/plain": [
       "#f"
      ]
     },
     "execution_count": 23,
     "metadata": {},
     "output_type": "execute_result"
    }
   ],
   "source": [
    "(null? l)"
   ]
  },
  {
   "cell_type": "code",
   "execution_count": 28,
   "metadata": {
    "collapsed": false
   },
   "outputs": [
    {
     "data": {
      "text/plain": [
       "()"
      ]
     },
     "execution_count": 28,
     "metadata": {},
     "output_type": "execute_result"
    }
   ],
   "source": [
    "(define ls '(Haryy))\n",
    "(cdr ls)"
   ]
  },
  {
   "cell_type": "code",
   "execution_count": 30,
   "metadata": {
    "collapsed": false
   },
   "outputs": [
    {
     "data": {
      "text/plain": [
       "#f"
      ]
     },
     "execution_count": 30,
     "metadata": {},
     "output_type": "execute_result"
    }
   ],
   "source": [
    "(null? ls)"
   ]
  },
  {
   "cell_type": "code",
   "execution_count": 31,
   "metadata": {
    "collapsed": false
   },
   "outputs": [
    {
     "data": {
      "text/plain": [
       "#t"
      ]
     },
     "execution_count": 31,
     "metadata": {},
     "output_type": "execute_result"
    }
   ],
   "source": [
    "(null? (cdr ls))"
   ]
  },
  {
   "cell_type": "markdown",
   "metadata": {},
   "source": [
    "### The Law of Eq?\n",
    "the primitive *eq* takes two arguments. Each must be a non-numeric atom"
   ]
  },
  {
   "cell_type": "code",
   "execution_count": 34,
   "metadata": {
    "collapsed": false
   },
   "outputs": [
    {
     "data": {
      "text/plain": [
       "#t"
      ]
     },
     "execution_count": 34,
     "metadata": {},
     "output_type": "execute_result"
    }
   ],
   "source": [
    "(define a1 'n)\n",
    "(define a2 'n)\n",
    "(eq? a1 a2)"
   ]
  },
  {
   "cell_type": "code",
   "execution_count": 37,
   "metadata": {
    "collapsed": false
   },
   "outputs": [
    {
     "data": {
      "text/plain": [
       "#t"
      ]
     },
     "execution_count": 37,
     "metadata": {},
     "output_type": "execute_result"
    }
   ],
   "source": [
    "(define n1 1)\n",
    "(define n2 1)\n",
    "(eq? n1 n2)"
   ]
  },
  {
   "cell_type": "markdown",
   "metadata": {},
   "source": [
    "## lat?\n"
   ]
  },
  {
   "cell_type": "code",
   "execution_count": 38,
   "metadata": {
    "collapsed": true
   },
   "outputs": [],
   "source": [
    "(define (lat? l)\n",
    "  (cond\n",
    "   ((null? l) #t)\n",
    "   ((atom? (car l)) (lat? (cdr l)))\n",
    "   (else #f)))"
   ]
  },
  {
   "cell_type": "code",
   "execution_count": 39,
   "metadata": {
    "collapsed": false
   },
   "outputs": [
    {
     "data": {
      "text/plain": [
       "#t"
      ]
     },
     "execution_count": 39,
     "metadata": {},
     "output_type": "execute_result"
    }
   ],
   "source": [
    "(lat? '(a b c d e))"
   ]
  },
  {
   "cell_type": "code",
   "execution_count": 40,
   "metadata": {
    "collapsed": false
   },
   "outputs": [
    {
     "data": {
      "text/plain": [
       "#f"
      ]
     },
     "execution_count": 40,
     "metadata": {},
     "output_type": "execute_result"
    }
   ],
   "source": [
    "(lat? '(a b (c d) e))"
   ]
  },
  {
   "cell_type": "markdown",
   "metadata": {},
   "source": [
    "## member?\n",
    "member is more complex function which can check the list member"
   ]
  },
  {
   "cell_type": "code",
   "execution_count": 42,
   "metadata": {
    "collapsed": false
   },
   "outputs": [],
   "source": [
    "(define (member? a lat)\n",
    "  (cond\n",
    "   ((null? lat) #f)\n",
    "   (else (or (eq? (car lat) a)\n",
    "             (member? a (cdr lat))))))"
   ]
  },
  {
   "cell_type": "code",
   "execution_count": 43,
   "metadata": {
    "collapsed": false
   },
   "outputs": [
    {
     "data": {
      "text/plain": [
       "#t"
      ]
     },
     "execution_count": 43,
     "metadata": {},
     "output_type": "execute_result"
    }
   ],
   "source": [
    "(member? 'a '(b c d a f))"
   ]
  },
  {
   "cell_type": "code",
   "execution_count": 44,
   "metadata": {
    "collapsed": false
   },
   "outputs": [
    {
     "data": {
      "text/plain": [
       "#f"
      ]
     },
     "execution_count": 44,
     "metadata": {},
     "output_type": "execute_result"
    }
   ],
   "source": [
    "(member? 'a '(b c d  f))"
   ]
  },
  {
   "cell_type": "markdown",
   "metadata": {},
   "source": [
    "## The First Commandment\n",
    "Always ask *null?* as the first question in expressing any funtion\n",
    "\n",
    "## Try this Problem\n",
    "define a function rember which will remove a member\n",
    "```\n",
    "(define a 'mint)\n",
    "(define lat '(lamb chops mint jelly))\n",
    "(rember a lat)\n",
    "=>(lamb chops jelly)\n",
    "```\n",
    "### Think\n",
    "if `(eq? (car lat) a)` do not put it to the list\n",
    "\n",
    "else put to th list\n"
   ]
  },
  {
   "cell_type": "code",
   "execution_count": 54,
   "metadata": {
    "collapsed": false
   },
   "outputs": [],
   "source": [
    "(define (rember lat a)\n",
    "  (cond\n",
    "   ((null? lat) '())\n",
    "   (else (cond\n",
    "          ((eq? (car lat) a) (cdr lat))\n",
    "          (else \n",
    "           (cons (car lat) (rember (cdr lat) a))\n",
    "          )))))"
   ]
  },
  {
   "cell_type": "code",
   "execution_count": 55,
   "metadata": {
    "collapsed": false
   },
   "outputs": [
    {
     "data": {
      "text/plain": [
       "(a c d e)"
      ]
     },
     "execution_count": 55,
     "metadata": {},
     "output_type": "execute_result"
    }
   ],
   "source": [
    "(define la '(a b c d e))\n",
    "(define aa 'b)\n",
    "(rember la aa)"
   ]
  },
  {
   "cell_type": "markdown",
   "metadata": {},
   "source": [
    "A litle Difficlut\n",
    "\n",
    "notice last line\n",
    "```\n",
    "(cons (car lat) (rember (cdr lat) a))\n",
    "```\n",
    "it will be `(cons (car lat) (car (cdr lat) (car (cdr (cdr lat))))`\n",
    "\n",
    "``` scheme\n",
    "(define (rember lat a)\n",
    "  (cond\n",
    "   ((null? lat) '())\n",
    "   (else (cond\n",
    "          ((eq? (car lat) a) (cdr lat));移除a\n",
    "          (else \n",
    "           (cons (car lat) (rember (cdr lat) a)) ;不要移除a 將a 取出出來後加回去，然後繼續檢查後面的內容\n",
    "          )))))\n",
    "```"
   ]
  },
  {
   "cell_type": "markdown",
   "metadata": {},
   "source": [
    "## First function\n",
    "\"The function fi rsts takes one argument,  a \n",
    "list,  which  is either a null  list  or contains \n",
    "only non-empty lists.  It builds another list \n",
    "composed of the fi rst  S-expression of each \n",
    "internal list.\" \n",
    "```\n",
    "(define lf '((a b) (b c) (c d)))\n",
    "(first lf)\n",
    "=> (a b c)\n",
    "```"
   ]
  },
  {
   "cell_type": "code",
   "execution_count": 56,
   "metadata": {
    "collapsed": true
   },
   "outputs": [],
   "source": [
    "(define (first lat)\n",
    "  (cond\n",
    "   ((null? lat) '())\n",
    "   (else (cons (car (car lat)) (first (cdr lat))))))"
   ]
  },
  {
   "cell_type": "code",
   "execution_count": 57,
   "metadata": {
    "collapsed": false
   },
   "outputs": [
    {
     "data": {
      "text/plain": [
       "(a b c)"
      ]
     },
     "execution_count": 57,
     "metadata": {},
     "output_type": "execute_result"
    }
   ],
   "source": [
    "(define lf '((a b) (b c) (c d)))\n",
    "(first lf)"
   ]
  },
  {
   "cell_type": "markdown",
   "metadata": {},
   "source": [
    "## InsertR\n",
    "\"It takes three arguments:  the atoms new \n",
    "and old, and a lat.  The function  insertR \n",
    "builds a lat  with new inserted to the right \n",
    "of the  first  occurrence of old.\"\n",
    "```\n",
    "(define lat '(ice cream with fudge for dessert))\n",
    "(define new 'topping)\n",
    "(define old 'fudge)\n",
    "(insertR new old lat)\n",
    "=>ice cream with fudge topping for dessert\n",
    "```"
   ]
  },
  {
   "cell_type": "code",
   "execution_count": 95,
   "metadata": {
    "collapsed": false
   },
   "outputs": [
    {
     "data": {
      "text/plain": [
       "(ice cream with fudge topping for dessert fudge)"
      ]
     },
     "execution_count": 95,
     "metadata": {},
     "output_type": "execute_result"
    }
   ],
   "source": [
    "(define llat '(ice cream with fudge for dessert fudge))\n",
    "(define nnew 'topping)\n",
    "(define oold 'fudge)\n",
    "(define (insertR new old lat)\n",
    "  (cond\n",
    "   ((null? lat) '())\n",
    "   (else \n",
    "    (cond\n",
    "     ((eq? old (car lat)) (cons old (cons new (cdr lat))));注意這樣是遞迴終點，所以替換的動作只會做一次\n",
    "     (else (cons (car lat) (insertR new old (cdr lat))))))))\n",
    "(insertR nnew oold llat)"
   ]
  },
  {
   "cell_type": "markdown",
   "metadata": {},
   "source": [
    "so it's easy to get *insertL*"
   ]
  },
  {
   "cell_type": "code",
   "execution_count": 104,
   "metadata": {
    "collapsed": false
   },
   "outputs": [
    {
     "data": {
      "text/plain": [
       "(ice cream with topping fudge for dessert fudge)"
      ]
     },
     "execution_count": 104,
     "metadata": {},
     "output_type": "execute_result"
    }
   ],
   "source": [
    "(define (insertL new old lat)\n",
    "  (cond\n",
    "   ((null? lat) '())\n",
    "   (else \n",
    "    (cond\n",
    "     ((eq? old (car lat)) (cons new (cons old (cdr lat))));注意這樣是遞迴終點，所以替換的動作只會做一次\n",
    "     (else (cons (car lat) (insertL new old (cdr lat))))))))\n",
    "(insertL nnew oold llat)"
   ]
  },
  {
   "cell_type": "markdown",
   "metadata": {},
   "source": [
    "### A little Problem about replace"
   ]
  },
  {
   "cell_type": "code",
   "execution_count": 98,
   "metadata": {
    "collapsed": true
   },
   "outputs": [],
   "source": [
    "(define (Replace new old lat)\n",
    "  (cond\n",
    "   ((null? lat) '())\n",
    "   (else \n",
    "    (cond\n",
    "     ((eq? old (car lat)) (cons new (Replace new old (cdr lat))));注意這樣仍然是遞迴，所以替換的動作只會繼續\n",
    "     (else (cons (car lat) (Replace new old (cdr lat))))))))"
   ]
  },
  {
   "cell_type": "code",
   "execution_count": 99,
   "metadata": {
    "collapsed": false
   },
   "outputs": [
    {
     "data": {
      "text/plain": [
       "(ice cream with topping for dessert topping)"
      ]
     },
     "execution_count": 99,
     "metadata": {},
     "output_type": "execute_result"
    }
   ],
   "source": [
    "(Replace nnew oold llat)"
   ]
  },
  {
   "cell_type": "code",
   "execution_count": 101,
   "metadata": {
    "collapsed": false
   },
   "outputs": [
    {
     "data": {
      "text/plain": [
       "(ice cream with topping for dessert fudge)"
      ]
     },
     "execution_count": 101,
     "metadata": {},
     "output_type": "execute_result"
    }
   ],
   "source": [
    "(define (ReplaceR new old lat)\n",
    "  (cond\n",
    "   ((null? lat) '())\n",
    "   (else \n",
    "    (cond\n",
    "     ((eq? old (car lat)) (cons new (cdr lat)));注意這樣是遞迴終點，所以替換的動作只會做一次\n",
    "     (else (cons (car lat) (ReplaceR new old (cdr lat))))))))\n",
    "(ReplaceR new old lat)"
   ]
  },
  {
   "cell_type": "markdown",
   "metadata": {},
   "source": [
    "## subst2\n",
    "replaces either the fi rst occurrence of o1  or \n",
    "the fi rst occurrence of o2  by  new "
   ]
  },
  {
   "cell_type": "code",
   "execution_count": 107,
   "metadata": {
    "collapsed": false
   },
   "outputs": [],
   "source": [
    "(define  subst2 \n",
    "  (lambda  (new  o1  o2  lat) \n",
    "    (cond \n",
    "     ((null?  lat)  (quote ())) \n",
    "     (else (cond \n",
    "            ((eq? (car  lat)  o1 ) \n",
    "             (cons  new  (cdr  lat))) \n",
    "            ((eq? (car  lat)  o2) \n",
    "             (cons  new  (cdr  lat))) \n",
    "            (else (cons  (car lat) \n",
    "                         (subst2  new  o1  o2 (cdr  lat))))))))) "
   ]
  },
  {
   "cell_type": "markdown",
   "metadata": {},
   "source": [
    "### to do more better"
   ]
  },
  {
   "cell_type": "code",
   "execution_count": 116,
   "metadata": {
    "collapsed": true
   },
   "outputs": [],
   "source": [
    "(define  subst22\n",
    "  (lambda  (new  o1  o2  lat) \n",
    "    (cond \n",
    "     ((null?  lat)  (quote ())) \n",
    "     (else (cond \n",
    "            ((or (eq? (car  lat)  o1 ) (eq? (car  lat)  o2)) \n",
    "             (cons  new  (cdr  lat))) \n",
    "            (else (cons  (car lat) \n",
    "                         (subst22  new  o1  o2 (cdr  lat))))))))) "
   ]
  },
  {
   "cell_type": "code",
   "execution_count": 117,
   "metadata": {
    "collapsed": false
   },
   "outputs": [
    {
     "data": {
      "text/plain": [
       "(this is Hello world book)"
      ]
     },
     "execution_count": 117,
     "metadata": {},
     "output_type": "execute_result"
    }
   ],
   "source": [
    "(define new 'Hello)\n",
    "(define o1 'a)\n",
    "(define o2 'b)\n",
    "(define lss '(this is a world book))\n",
    "(subst22 new o1 o2 lss)"
   ]
  },
  {
   "cell_type": "code",
   "execution_count": null,
   "metadata": {
    "collapsed": true
   },
   "outputs": [],
   "source": []
  }
 ],
 "metadata": {
  "anaconda-cloud": {},
  "kernelspec": {
   "display_name": "Calysto Scheme 3",
   "language": "scheme",
   "name": "calysto_scheme"
  },
  "language_info": {
   "codemirror_mode": {
    "name": "scheme"
   },
   "mimetype": "text/x-scheme",
   "name": "scheme",
   "pygments_lexer": "scheme"
  }
 },
 "nbformat": 4,
 "nbformat_minor": 1
}
