{
 "cells": [
  {
   "cell_type": "markdown",
   "metadata": {},
   "source": [
    "## The Third Commandment\n",
    "When building a list describe the first typical element and then *cons* it onto the natural recursion"
   ]
  },
  {
   "cell_type": "code",
   "execution_count": 1,
   "metadata": {
    "collapsed": false
   },
   "outputs": [
    {
     "data": {
      "text/plain": [
       "(a c e)"
      ]
     },
     "execution_count": 1,
     "metadata": {},
     "output_type": "execute_result"
    }
   ],
   "source": [
    "(define (first l)\n",
    "  (cond\n",
    "   ((null? l) '())\n",
    "   (else (cons (car (car l)) (first (cdr l)))))\n",
    "  )\n",
    "(define lat '((a b) (c d) (e f)))\n",
    "(first lat)"
   ]
  },
  {
   "cell_type": "markdown",
   "metadata": {},
   "source": [
    "## The  Fourth  Commandment  \n",
    "Always  change  at  least  one  argument  while  recurring.  It \n",
    "must be changed to be closer to termination.  The changing \n",
    "argument must be tested  in the termination condition: \n",
    "when  using  cdr,  test termination  with  null?. "
   ]
  },
  {
   "cell_type": "code",
   "execution_count": 2,
   "metadata": {
    "collapsed": false
   },
   "outputs": [],
   "source": [
    "( define  multisubst \n",
    "  (lambda (new  old  lat) \n",
    "    (cond \n",
    "    ((null? lat)  ( quote ())) \n",
    "    (else  (cond \n",
    "            ((eq? (car lat)  old) (cons  new (multisubst  new  old (cdr  lat)))) \n",
    "            (else (cons  (car  lat) (multisubst  new  old (cdr  lat))))))))) "
   ]
  },
  {
   "cell_type": "code",
   "execution_count": 3,
   "metadata": {
    "collapsed": false
   },
   "outputs": [
    {
     "data": {
      "text/plain": [
       "(this is Hello world Hello book)"
      ]
     },
     "execution_count": 3,
     "metadata": {},
     "output_type": "execute_result"
    }
   ],
   "source": [
    "(define new 'Hello)\n",
    "(define o1 'a)\n",
    "(define o2 'b)\n",
    "(define lss '(this is a world a book))\n",
    "(multisubst new o1 lss)"
   ]
  },
  {
   "cell_type": "markdown",
   "metadata": {},
   "source": [
    "## Atom \n",
    "atom is a string of characters,list is a collection of atoms\n",
    "**Number** is a atom"
   ]
  },
  {
   "cell_type": "code",
   "execution_count": 4,
   "metadata": {
    "collapsed": false
   },
   "outputs": [
    {
     "data": {
      "text/plain": [
       "#t"
      ]
     },
     "execution_count": 4,
     "metadata": {},
     "output_type": "execute_result"
    }
   ],
   "source": [
    "(atom? 14)"
   ]
  },
  {
   "cell_type": "code",
   "execution_count": 5,
   "metadata": {
    "collapsed": false
   },
   "outputs": [
    {
     "data": {
      "text/plain": [
       "#t"
      ]
     },
     "execution_count": 5,
     "metadata": {},
     "output_type": "execute_result"
    }
   ],
   "source": [
    "(and (atom? 3.14) (atom? -3))"
   ]
  },
  {
   "cell_type": "code",
   "execution_count": 6,
   "metadata": {
    "collapsed": false
   },
   "outputs": [
    {
     "data": {
      "text/plain": [
       "15"
      ]
     },
     "execution_count": 6,
     "metadata": {},
     "output_type": "execute_result"
    }
   ],
   "source": [
    "(define (add1 n) (+ n 1))\n",
    "(define (sub1 n) (- n 1))\n",
    "(add1 14) ;14+1"
   ]
  },
  {
   "cell_type": "markdown",
   "metadata": {},
   "source": [
    "##Zero? Cmd\n",
    "```\n",
    "(zero? num)\n",
    "```\n",
    "if num is zero then return true else return false"
   ]
  },
  {
   "cell_type": "code",
   "execution_count": 19,
   "metadata": {
    "collapsed": true
   },
   "outputs": [],
   "source": [
    "(define add (lambda (n m)\n",
    "            (cond\n",
    "             ((zero? m) n)\n",
    "             (else (add1 (add n (sub1 m)))))))"
   ]
  },
  {
   "cell_type": "code",
   "execution_count": 20,
   "metadata": {
    "collapsed": false
   },
   "outputs": [
    {
     "data": {
      "text/plain": [
       "3"
      ]
     },
     "execution_count": 20,
     "metadata": {},
     "output_type": "execute_result"
    }
   ],
   "source": [
    "(add 1 2)"
   ]
  },
  {
   "cell_type": "code",
   "execution_count": 17,
   "metadata": {
    "collapsed": false
   },
   "outputs": [
    {
     "data": {
      "text/plain": [
       "2"
      ]
     },
     "execution_count": 17,
     "metadata": {},
     "output_type": "execute_result"
    }
   ],
   "source": [
    "(define (sub a b)\n",
    "  (cond\n",
    "   ((zero? b) a)\n",
    "   (else (sub1 (sub a (sub1 b))))))\n",
    "(sub 5 3)"
   ]
  },
  {
   "cell_type": "markdown",
   "metadata": {},
   "source": [
    "### more better?"
   ]
  },
  {
   "cell_type": "code",
   "execution_count": 23,
   "metadata": {
    "collapsed": false
   },
   "outputs": [
    {
     "data": {
      "text/plain": [
       "8"
      ]
     },
     "execution_count": 23,
     "metadata": {},
     "output_type": "execute_result"
    }
   ],
   "source": [
    "(define (add2 m n)\n",
    "  (cond\n",
    "   ((zero? n) m)\n",
    "   (else (add2 (add1 m) (sub1 n)))))\n",
    "(add2 3 5)"
   ]
  },
  {
   "cell_type": "markdown",
   "metadata": {},
   "source": [
    "### tuple\n",
    "tup is a list of number"
   ]
  },
  {
   "cell_type": "code",
   "execution_count": 25,
   "metadata": {
    "collapsed": false
   },
   "outputs": [],
   "source": [
    "(define tup '(1 2 3 4 5))"
   ]
  },
  {
   "cell_type": "markdown",
   "metadata": {},
   "source": [
    "## Review First Commandment (revision)\n",
    "\n",
    "* When recurring on a list of atoms, lat, ask two questions about it: `(null? lat)` and `else`\n",
    "* When recurring on a number, n, ask two question about it:`(zero? n)` and `else`\n"
   ]
  },
  {
   "cell_type": "markdown",
   "metadata": {},
   "source": [
    "## Review Fourth Commandment (revision) \n",
    "Always  change  at least  one argument  while  recurring.  It \n",
    "must be changed to be closer to termination.  The changing \n",
    "argument must be tested in the termination condition: \n",
    "\n",
    "* when  using  cdr,  test termination with null? and \n",
    "* when  using sub1 , test termination  with  zero ?. "
   ]
  },
  {
   "cell_type": "code",
   "execution_count": 33,
   "metadata": {
    "collapsed": false
   },
   "outputs": [
    {
     "data": {
      "text/plain": [
       "15"
      ]
     },
     "execution_count": 33,
     "metadata": {},
     "output_type": "execute_result"
    }
   ],
   "source": [
    "(define (mul n m)\n",
    "  (cond\n",
    "   ((zero? m) 0)\n",
    "   (else (add n (mul n (sub1 m))))))\n",
    "(mul 3 5)"
   ]
  },
  {
   "cell_type": "code",
   "execution_count": 38,
   "metadata": {
    "collapsed": false
   },
   "outputs": [
    {
     "data": {
      "text/plain": [
       "15"
      ]
     },
     "execution_count": 38,
     "metadata": {},
     "output_type": "execute_result"
    }
   ],
   "source": [
    "(define (mul-sub result n m)\n",
    "  (cond\n",
    "   ((zero? m) result)\n",
    "   (else (mul-sub (add result n) n (sub1 m)))))\n",
    "(define (mul2 n m) (mul-sub 0 n m))\n",
    "(mul2 3 5)"
   ]
  },
  {
   "cell_type": "markdown",
   "metadata": {
    "collapsed": false
   },
   "source": [
    "## The  Fifth  Commandment \n",
    "When building a value with + ,  always use 0 for the value of the \n",
    "terminating line, for adding 0 does not change the value of  an addition.\n",
    "\n",
    "When  building a va lue  with  x ,   always  use  1  for  the  va lue  of the \n",
    "terminating  line,  for  multiplying by  1  does  not  change  the  va lue \n",
    "of a  multiplication. \n",
    "\n",
    "When building a value with *cons* ,  always consider ()  for the va lue \n",
    "of the terminating line. "
   ]
  },
  {
   "cell_type": "code",
   "execution_count": 42,
   "metadata": {
    "collapsed": false
   },
   "outputs": [
    {
     "data": {
      "text/plain": [
       "(6 12 14)"
      ]
     },
     "execution_count": 42,
     "metadata": {},
     "output_type": "execute_result"
    }
   ],
   "source": [
    "(define (tup+ tup1 tup2)\n",
    "  (cond \n",
    "   ((and (null? tup1) (null? tup2)) '())\n",
    "   (else \n",
    "    (cons (+ (car tup1) (car tup2)) (tup+ (cdr tup1) (cdr tup2))))))\n",
    "(tup+ '(2 3 5) '(4 9 9))"
   ]
  },
  {
   "cell_type": "code",
   "execution_count": 43,
   "metadata": {
    "collapsed": false
   },
   "outputs": [
    {
     "data": {
      "text/plain": [
       "7"
      ]
     },
     "execution_count": 43,
     "metadata": {},
     "output_type": "execute_result"
    }
   ],
   "source": [
    ";Length\n",
    "(define (length lat)\n",
    "  (cond\n",
    "   ((null? lat) 0)\n",
    "   (else (add1 (length (cdr lat))))))\n",
    "(length '(1 2 3 4 5 6 7))"
   ]
  },
  {
   "cell_type": "code",
   "execution_count": 46,
   "metadata": {
    "collapsed": false
   },
   "outputs": [
    {
     "data": {
      "text/plain": [
       "5"
      ]
     },
     "execution_count": 46,
     "metadata": {},
     "output_type": "execute_result"
    }
   ],
   "source": [
    ";Pick\n",
    "(define (pick n lat)\n",
    "  (cond\n",
    "   ((zero? (sub1 n)) (car lat))\n",
    "   (else (pick (sub1 n) (cdr lat)))))\n",
    "(pick 5 '(1 2 3 4 5 6 7 9))"
   ]
  },
  {
   "cell_type": "code",
   "execution_count": 47,
   "metadata": {
    "collapsed": false
   },
   "outputs": [
    {
     "data": {
      "text/plain": [
       "(1 2 4 5)"
      ]
     },
     "execution_count": 47,
     "metadata": {},
     "output_type": "execute_result"
    }
   ],
   "source": [
    ";rempick\n",
    "(define (rempick n lat)\n",
    "  (cond\n",
    "   ((zero? (sub1 n)) (cdr lat))\n",
    "   (else (cons (car lat) (rempick (sub1 n) (cdr lat))))))\n",
    "(rempick 3 '(1 2 3 4 5))"
   ]
  },
  {
   "cell_type": "code",
   "execution_count": 53,
   "metadata": {
    "collapsed": false
   },
   "outputs": [
    {
     "data": {
      "text/plain": [
       "#t"
      ]
     },
     "execution_count": 53,
     "metadata": {},
     "output_type": "execute_result"
    }
   ],
   "source": [
    "(define a 12)\n",
    "(number? a)"
   ]
  },
  {
   "cell_type": "code",
   "execution_count": 56,
   "metadata": {
    "collapsed": false
   },
   "outputs": [
    {
     "data": {
      "text/plain": [
       "((() b) c ())"
      ]
     },
     "execution_count": 56,
     "metadata": {},
     "output_type": "execute_result"
    }
   ],
   "source": [
    "(define (rember* a lat)\n",
    "  (cond\n",
    "   ((null? lat) '())\n",
    "   ((atom? lat)\n",
    "    (cond\n",
    "     ((eq? a lat) '())\n",
    "     (else lat)))\n",
    "   (else (cons (rember* a (car lat)) (rember* a (cdr lat))))))\n",
    "(rember* 'a '((a b) c a))"
   ]
  },
  {
   "cell_type": "code",
   "execution_count": null,
   "metadata": {
    "collapsed": true
   },
   "outputs": [],
   "source": []
  }
 ],
 "metadata": {
  "anaconda-cloud": {},
  "kernelspec": {
   "display_name": "Calysto Scheme 3",
   "language": "scheme",
   "name": "calysto_scheme"
  },
  "language_info": {
   "codemirror_mode": {
    "name": "scheme"
   },
   "mimetype": "text/x-scheme",
   "name": "scheme",
   "pygments_lexer": "scheme"
  }
 },
 "nbformat": 4,
 "nbformat_minor": 1
}
